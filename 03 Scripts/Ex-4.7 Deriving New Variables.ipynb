{
 "cells": [
  {
   "cell_type": "markdown",
   "id": "cf9c1eab",
   "metadata": {},
   "source": [
    "### Importing libraries"
   ]
  },
  {
   "cell_type": "code",
   "execution_count": 4,
   "id": "00b284e7",
   "metadata": {},
   "outputs": [],
   "source": [
    "#Import libraries\n",
    "import pandas as pd\n",
    "import numpy as np\n",
    "import os"
   ]
  },
  {
   "cell_type": "markdown",
   "id": "4ae64d5a",
   "metadata": {},
   "source": [
    "### Importing dataframe"
   ]
  },
  {
   "cell_type": "code",
   "execution_count": 5,
   "id": "4123165e",
   "metadata": {},
   "outputs": [],
   "source": [
    "# Turning project folder path into a string\n",
    "path=r'/Users/jasmeetakaur/Downloads/Jasmeeta/Data Immersion Course/Achievement 1/Achievement 4/Instacart Basket Analysis'"
   ]
  },
  {
   "cell_type": "code",
   "execution_count": 6,
   "id": "3fcad862",
   "metadata": {},
   "outputs": [],
   "source": [
    "# Importing the “orders_products_combined.pkl file\n",
    "df_orders_products_merged=pd.read_pickle(os.path.join(path,'02 Data/Prepared Data/orders_products_merged.pkl'))"
   ]
  },
  {
   "cell_type": "code",
   "execution_count": 7,
   "id": "2a159212",
   "metadata": {},
   "outputs": [
    {
     "data": {
      "text/plain": [
       "(9918253, 18)"
      ]
     },
     "execution_count": 7,
     "metadata": {},
     "output_type": "execute_result"
    }
   ],
   "source": [
    "df_orders_products_merged.shape"
   ]
  },
  {
   "cell_type": "code",
   "execution_count": 55,
   "id": "6566c43f",
   "metadata": {},
   "outputs": [],
   "source": [
    "# Creating a subset\n",
    "df = df_orders_products_merged[:1000000]"
   ]
  },
  {
   "cell_type": "code",
   "execution_count": 56,
   "id": "81498ebe",
   "metadata": {},
   "outputs": [
    {
     "data": {
      "text/plain": [
       "(1000000, 14)"
      ]
     },
     "execution_count": 56,
     "metadata": {},
     "output_type": "execute_result"
    }
   ],
   "source": [
    "df.shape"
   ]
  },
  {
   "cell_type": "code",
   "execution_count": 57,
   "id": "0aa5a122",
   "metadata": {},
   "outputs": [
    {
     "data": {
      "text/html": [
       "<div>\n",
       "<style scoped>\n",
       "    .dataframe tbody tr th:only-of-type {\n",
       "        vertical-align: middle;\n",
       "    }\n",
       "\n",
       "    .dataframe tbody tr th {\n",
       "        vertical-align: top;\n",
       "    }\n",
       "\n",
       "    .dataframe thead th {\n",
       "        text-align: right;\n",
       "    }\n",
       "</style>\n",
       "<table border=\"1\" class=\"dataframe\">\n",
       "  <thead>\n",
       "    <tr style=\"text-align: right;\">\n",
       "      <th></th>\n",
       "      <th>order_id</th>\n",
       "      <th>user_id</th>\n",
       "      <th>order_number</th>\n",
       "      <th>order_day_of_week</th>\n",
       "      <th>order_hour_of_day</th>\n",
       "      <th>days_since_prior_order</th>\n",
       "      <th>product_id</th>\n",
       "      <th>add_to_cart_order</th>\n",
       "      <th>reordered</th>\n",
       "      <th>aisle_id</th>\n",
       "      <th>department_id</th>\n",
       "      <th>prices</th>\n",
       "    </tr>\n",
       "  </thead>\n",
       "  <tbody>\n",
       "    <tr>\n",
       "      <th>count</th>\n",
       "      <td>1.000000e+06</td>\n",
       "      <td>1000000.000000</td>\n",
       "      <td>1000000.000000</td>\n",
       "      <td>1000000.000000</td>\n",
       "      <td>1000000.000000</td>\n",
       "      <td>1000000.000000</td>\n",
       "      <td>1000000.000000</td>\n",
       "      <td>1000000.000000</td>\n",
       "      <td>1000000.000000</td>\n",
       "      <td>1000000.000000</td>\n",
       "      <td>1000000.000000</td>\n",
       "      <td>1000000.000000</td>\n",
       "    </tr>\n",
       "    <tr>\n",
       "      <th>mean</th>\n",
       "      <td>1.710772e+06</td>\n",
       "      <td>31178.163815</td>\n",
       "      <td>18.421580</td>\n",
       "      <td>2.680699</td>\n",
       "      <td>13.346375</td>\n",
       "      <td>10.055998</td>\n",
       "      <td>27461.547759</td>\n",
       "      <td>6.786967</td>\n",
       "      <td>0.748072</td>\n",
       "      <td>52.196618</td>\n",
       "      <td>7.397939</td>\n",
       "      <td>7.554268</td>\n",
       "    </tr>\n",
       "    <tr>\n",
       "      <th>std</th>\n",
       "      <td>9.866751e+05</td>\n",
       "      <td>17958.974841</td>\n",
       "      <td>18.262504</td>\n",
       "      <td>2.078085</td>\n",
       "      <td>4.252633</td>\n",
       "      <td>8.597663</td>\n",
       "      <td>13403.446767</td>\n",
       "      <td>6.119590</td>\n",
       "      <td>0.434120</td>\n",
       "      <td>39.963455</td>\n",
       "      <td>5.859363</td>\n",
       "      <td>3.905825</td>\n",
       "    </tr>\n",
       "    <tr>\n",
       "      <th>min</th>\n",
       "      <td>1.300000e+01</td>\n",
       "      <td>1.000000</td>\n",
       "      <td>1.000000</td>\n",
       "      <td>0.000000</td>\n",
       "      <td>0.000000</td>\n",
       "      <td>0.000000</td>\n",
       "      <td>23.000000</td>\n",
       "      <td>1.000000</td>\n",
       "      <td>0.000000</td>\n",
       "      <td>1.000000</td>\n",
       "      <td>1.000000</td>\n",
       "      <td>1.000000</td>\n",
       "    </tr>\n",
       "    <tr>\n",
       "      <th>25%</th>\n",
       "      <td>8.571010e+05</td>\n",
       "      <td>15796.750000</td>\n",
       "      <td>5.000000</td>\n",
       "      <td>1.000000</td>\n",
       "      <td>10.000000</td>\n",
       "      <td>4.000000</td>\n",
       "      <td>16797.000000</td>\n",
       "      <td>2.000000</td>\n",
       "      <td>0.000000</td>\n",
       "      <td>24.000000</td>\n",
       "      <td>4.000000</td>\n",
       "      <td>4.000000</td>\n",
       "    </tr>\n",
       "    <tr>\n",
       "      <th>50%</th>\n",
       "      <td>1.711984e+06</td>\n",
       "      <td>31133.000000</td>\n",
       "      <td>12.000000</td>\n",
       "      <td>2.000000</td>\n",
       "      <td>13.000000</td>\n",
       "      <td>7.000000</td>\n",
       "      <td>24852.000000</td>\n",
       "      <td>5.000000</td>\n",
       "      <td>1.000000</td>\n",
       "      <td>24.000000</td>\n",
       "      <td>4.000000</td>\n",
       "      <td>8.200000</td>\n",
       "    </tr>\n",
       "    <tr>\n",
       "      <th>75%</th>\n",
       "      <td>2.564170e+06</td>\n",
       "      <td>46248.000000</td>\n",
       "      <td>26.000000</td>\n",
       "      <td>5.000000</td>\n",
       "      <td>16.000000</td>\n",
       "      <td>14.000000</td>\n",
       "      <td>39928.000000</td>\n",
       "      <td>9.000000</td>\n",
       "      <td>1.000000</td>\n",
       "      <td>91.000000</td>\n",
       "      <td>13.000000</td>\n",
       "      <td>10.300000</td>\n",
       "    </tr>\n",
       "    <tr>\n",
       "      <th>max</th>\n",
       "      <td>3.421083e+06</td>\n",
       "      <td>63099.000000</td>\n",
       "      <td>99.000000</td>\n",
       "      <td>6.000000</td>\n",
       "      <td>23.000000</td>\n",
       "      <td>30.000000</td>\n",
       "      <td>49451.000000</td>\n",
       "      <td>134.000000</td>\n",
       "      <td>1.000000</td>\n",
       "      <td>123.000000</td>\n",
       "      <td>20.000000</td>\n",
       "      <td>14.800000</td>\n",
       "    </tr>\n",
       "  </tbody>\n",
       "</table>\n",
       "</div>"
      ],
      "text/plain": [
       "           order_id         user_id    order_number  order_day_of_week  \\\n",
       "count  1.000000e+06  1000000.000000  1000000.000000     1000000.000000   \n",
       "mean   1.710772e+06    31178.163815       18.421580           2.680699   \n",
       "std    9.866751e+05    17958.974841       18.262504           2.078085   \n",
       "min    1.300000e+01        1.000000        1.000000           0.000000   \n",
       "25%    8.571010e+05    15796.750000        5.000000           1.000000   \n",
       "50%    1.711984e+06    31133.000000       12.000000           2.000000   \n",
       "75%    2.564170e+06    46248.000000       26.000000           5.000000   \n",
       "max    3.421083e+06    63099.000000       99.000000           6.000000   \n",
       "\n",
       "       order_hour_of_day  days_since_prior_order      product_id  \\\n",
       "count     1000000.000000          1000000.000000  1000000.000000   \n",
       "mean           13.346375               10.055998    27461.547759   \n",
       "std             4.252633                8.597663    13403.446767   \n",
       "min             0.000000                0.000000       23.000000   \n",
       "25%            10.000000                4.000000    16797.000000   \n",
       "50%            13.000000                7.000000    24852.000000   \n",
       "75%            16.000000               14.000000    39928.000000   \n",
       "max            23.000000               30.000000    49451.000000   \n",
       "\n",
       "       add_to_cart_order       reordered        aisle_id   department_id  \\\n",
       "count     1000000.000000  1000000.000000  1000000.000000  1000000.000000   \n",
       "mean            6.786967        0.748072       52.196618        7.397939   \n",
       "std             6.119590        0.434120       39.963455        5.859363   \n",
       "min             1.000000        0.000000        1.000000        1.000000   \n",
       "25%             2.000000        0.000000       24.000000        4.000000   \n",
       "50%             5.000000        1.000000       24.000000        4.000000   \n",
       "75%             9.000000        1.000000       91.000000       13.000000   \n",
       "max           134.000000        1.000000      123.000000       20.000000   \n",
       "\n",
       "               prices  \n",
       "count  1000000.000000  \n",
       "mean         7.554268  \n",
       "std          3.905825  \n",
       "min          1.000000  \n",
       "25%          4.000000  \n",
       "50%          8.200000  \n",
       "75%         10.300000  \n",
       "max         14.800000  "
      ]
     },
     "execution_count": 57,
     "metadata": {},
     "output_type": "execute_result"
    }
   ],
   "source": [
    "df.describe()"
   ]
  },
  {
   "cell_type": "code",
   "execution_count": 58,
   "id": "d031bf3f",
   "metadata": {},
   "outputs": [],
   "source": [
    "# Define a new function\n",
    "def price_label(row):\n",
    "   if row['prices']<=5:\n",
    "      return \"low range product\"\n",
    "   elif (row['prices']>5) and (row['prices']<=15):\n",
    "      return \"Mid Range product\"\n",
    "   elif (row['prices']>15):\n",
    "      return \"High Range Product\"\n",
    "   else: return 'Not enough data' "
   ]
  },
  {
   "cell_type": "code",
   "execution_count": 59,
   "id": "8beba865",
   "metadata": {},
   "outputs": [
    {
     "name": "stderr",
     "output_type": "stream",
     "text": [
      "/var/folders/77/3dq_7lv50b1b4jqj7g8kp0880000gn/T/ipykernel_91782/1107972228.py:2: SettingWithCopyWarning: \n",
      "A value is trying to be set on a copy of a slice from a DataFrame.\n",
      "Try using .loc[row_indexer,col_indexer] = value instead\n",
      "\n",
      "See the caveats in the documentation: https://pandas.pydata.org/pandas-docs/stable/user_guide/indexing.html#returning-a-view-versus-a-copy\n",
      "  df['price_range']=df.apply(price_label,axis=1)\n"
     ]
    }
   ],
   "source": [
    "# Apply the function\n",
    "df['price_range']=df.apply(price_label,axis=1)"
   ]
  },
  {
   "cell_type": "code",
   "execution_count": 60,
   "id": "3011016d",
   "metadata": {},
   "outputs": [
    {
     "data": {
      "text/plain": [
       "price_range\n",
       "Mid Range product    666122\n",
       "low range product    333878\n",
       "Name: count, dtype: int64"
      ]
     },
     "execution_count": 60,
     "metadata": {},
     "output_type": "execute_result"
    }
   ],
   "source": [
    "df['price_range'].value_counts(dropna=False)"
   ]
  },
  {
   "cell_type": "code",
   "execution_count": 61,
   "id": "37f82a72",
   "metadata": {},
   "outputs": [
    {
     "data": {
      "text/plain": [
       "14.8"
      ]
     },
     "execution_count": 61,
     "metadata": {},
     "output_type": "execute_result"
    }
   ],
   "source": [
    "# Finding the maximum price in the subset\n",
    "df['prices'].max()"
   ]
  },
  {
   "cell_type": "markdown",
   "id": "57b066c6",
   "metadata": {},
   "source": [
    "### If Statements with loc() function on the entire data frame"
   ]
  },
  {
   "cell_type": "code",
   "execution_count": 62,
   "id": "a1595f23",
   "metadata": {},
   "outputs": [],
   "source": [
    "df_orders_products_merged.loc[df_orders_products_merged['prices']>15, 'price_range_loc']='High Range product'"
   ]
  },
  {
   "cell_type": "code",
   "execution_count": 63,
   "id": "0769d3d8",
   "metadata": {},
   "outputs": [],
   "source": [
    "df_orders_products_merged.loc[(df_orders_products_merged['prices']<=15) & (df_orders_products_merged['prices']>5), 'price_range_loc']='Mid Range product'"
   ]
  },
  {
   "cell_type": "code",
   "execution_count": 64,
   "id": "d72328db",
   "metadata": {},
   "outputs": [],
   "source": [
    "df_orders_products_merged.loc[df_orders_products_merged['prices']<=5, 'price_range_loc']='Low Range Product'"
   ]
  },
  {
   "cell_type": "code",
   "execution_count": 66,
   "id": "22b93c60",
   "metadata": {},
   "outputs": [
    {
     "data": {
      "text/plain": [
       "price_range_loc\n",
       "Mid Range product     6690367\n",
       "Low Range Product     3100143\n",
       "High Range product     127743\n",
       "Name: count, dtype: int64"
      ]
     },
     "execution_count": 66,
     "metadata": {},
     "output_type": "execute_result"
    }
   ],
   "source": [
    "df_orders_products_merged['price_range_loc'].value_counts(dropna=False)"
   ]
  },
  {
   "cell_type": "markdown",
   "id": "3d3e32cb",
   "metadata": {},
   "source": [
    "### If Statements with For loop"
   ]
  },
  {
   "cell_type": "code",
   "execution_count": 67,
   "id": "51191f6d",
   "metadata": {},
   "outputs": [
    {
     "data": {
      "text/plain": [
       "order_day_of_week\n",
       "0    1894196\n",
       "1    1729956\n",
       "6    1382396\n",
       "5    1291406\n",
       "2    1286645\n",
       "3    1176810\n",
       "4    1156844\n",
       "Name: count, dtype: int64"
      ]
     },
     "execution_count": 67,
     "metadata": {},
     "output_type": "execute_result"
    }
   ],
   "source": [
    "# Finding the frequency on each day\n",
    "df_orders_products_merged['order_day_of_week'].value_counts(dropna=False)"
   ]
  },
  {
   "cell_type": "code",
   "execution_count": 68,
   "id": "7736d000",
   "metadata": {},
   "outputs": [],
   "source": [
    "# Using the for loop to categorize busy days\n",
    "\n",
    "result=[] \n",
    "\n",
    "for value in orders_products_merged[\"order_day_of_week\"]:\n",
    "    if value == 0:\n",
    "      result.append(\"Busiest Day\")\n",
    "    elif value==4:\n",
    "      result.append(\"Least busy\") \n",
    "    else:\n",
    "      result.append(\"Regular busy day\")"
   ]
  },
  {
   "cell_type": "code",
   "execution_count": 70,
   "id": "030bc331",
   "metadata": {},
   "outputs": [],
   "source": [
    "# Assigning the value of result to a new column'Busiest_day' in df_orders_products_merged\n",
    "df_orders_products_merged['Busiest_day']=result"
   ]
  },
  {
   "cell_type": "code",
   "execution_count": 71,
   "id": "c2a3dd6d",
   "metadata": {},
   "outputs": [
    {
     "data": {
      "text/plain": [
       "Busiest_day\n",
       "Regular busy day    6867213\n",
       "Busiest Day         1894196\n",
       "Least busy          1156844\n",
       "Name: count, dtype: int64"
      ]
     },
     "execution_count": 71,
     "metadata": {},
     "output_type": "execute_result"
    }
   ],
   "source": [
    "# Counting the number of times a unique value occurs\n",
    "df_orders_products_merged['Busiest_day'].value_counts(dropna=False)"
   ]
  },
  {
   "cell_type": "markdown",
   "id": "db7d9cac",
   "metadata": {},
   "source": [
    "### 2. Finding two busiest and two slowest days of the week\n"
   ]
  },
  {
   "cell_type": "code",
   "execution_count": 93,
   "id": "2bf9873e",
   "metadata": {},
   "outputs": [],
   "source": [
    "# Using the for loop to find two busiest days and 2 slowest days\n",
    "\n",
    "result=[] \n",
    "\n",
    "for value in orders_products_merged[\"order_day_of_week\"]:\n",
    "    if value == 0 or value == 1:\n",
    "      result.append(\"Busiest Days\")\n",
    "    elif value==3 or value==4:\n",
    "      result.append(\"Slowest Days\") \n",
    "    else:\n",
    "      result.append(\"Regular busy days\")"
   ]
  },
  {
   "cell_type": "code",
   "execution_count": 94,
   "id": "1cbc8970",
   "metadata": {},
   "outputs": [],
   "source": [
    "# Assigning the result of the loop to 'Busiest/Slowest days' column of the data frame\n",
    "df_orders_products_merged['Busiest/Slowest days']=result"
   ]
  },
  {
   "cell_type": "code",
   "execution_count": 95,
   "id": "852809e6",
   "metadata": {},
   "outputs": [
    {
     "data": {
      "text/plain": [
       "Busiest/Slowest days\n",
       "Regular busy days    3960447\n",
       "Busiest Days         3624152\n",
       "Slowest Days         2333654\n",
       "Name: count, dtype: int64"
      ]
     },
     "execution_count": 95,
     "metadata": {},
     "output_type": "execute_result"
    }
   ],
   "source": [
    "# Printing the frequency of 'Busiest/Slowest days' column\n",
    "df_orders_products_merged['Busiest/Slowest days'].value_counts(dropna=False)"
   ]
  },
  {
   "cell_type": "markdown",
   "id": "dd713a4b",
   "metadata": {},
   "source": [
    "### 3. On checking the frequency of the busiest days, it was found to be equal to the sum of the frequency for days '0' and '1'. The total frequency of slowest days was equal to the sum of th efgrequency for days '3' and '4'. The frequency of the regular busy days matches the sum of frequency for days '2','5','6' and '7'."
   ]
  },
  {
   "cell_type": "markdown",
   "id": "36abef91",
   "metadata": {},
   "source": [
    "### 4. Finding the busiest hours of the day"
   ]
  },
  {
   "cell_type": "code",
   "execution_count": 81,
   "id": "00ce9dfc",
   "metadata": {},
   "outputs": [
    {
     "data": {
      "text/plain": [
       "order_hour_of_day\n",
       "10    847433\n",
       "11    834539\n",
       "14    824237\n",
       "13    819415\n",
       "15    811711\n",
       "12    806657\n",
       "16    772746\n",
       "9     749590\n",
       "17    636644\n",
       "8     530095\n",
       "18    500081\n",
       "19    384715\n",
       "20    296474\n",
       "7     275188\n",
       "21    246002\n",
       "22    194143\n",
       "23    121172\n",
       "6      87668\n",
       "0      66104\n",
       "1      34377\n",
       "5      26379\n",
       "2      20972\n",
       "4      16846\n",
       "3      15065\n",
       "Name: count, dtype: int64"
      ]
     },
     "execution_count": 81,
     "metadata": {},
     "output_type": "execute_result"
    }
   ],
   "source": [
    "# Finding the frequency in each hour\n",
    "df_orders_products_merged['order_hour_of_day'].value_counts(dropna=False)"
   ]
  },
  {
   "cell_type": "code",
   "execution_count": 82,
   "id": "23c5cfb4",
   "metadata": {},
   "outputs": [],
   "source": [
    "# Using the for loop to categorize busiest hours\n",
    "\n",
    "result = []                                                                                                                                 =[] \n",
    "\n",
    "for value in orders_products_merged[\"order_hour_of_day\"]:\n",
    "    if value in [10,11,12,13,14,15,16]:\n",
    "      result.append(\"Most Orders \")\n",
    "    elif value in [0,1,2,3,4,5,6]:\n",
    "      result.append(\"Fewest Orders\") \n",
    "    else:\n",
    "      result.append(\"Average Orders\")"
   ]
  },
  {
   "cell_type": "code",
   "execution_count": 89,
   "id": "d84bb6e5",
   "metadata": {},
   "outputs": [],
   "source": [
    "# Assigning the result of the loop to the 'busiest_period_of_day' column of the data frame\n",
    "df_orders_products_merged['busiest_period_of_day']=result"
   ]
  },
  {
   "cell_type": "code",
   "execution_count": 91,
   "id": "2cdc42ea",
   "metadata": {},
   "outputs": [
    {
     "data": {
      "text/html": [
       "<div>\n",
       "<style scoped>\n",
       "    .dataframe tbody tr th:only-of-type {\n",
       "        vertical-align: middle;\n",
       "    }\n",
       "\n",
       "    .dataframe tbody tr th {\n",
       "        vertical-align: top;\n",
       "    }\n",
       "\n",
       "    .dataframe thead th {\n",
       "        text-align: right;\n",
       "    }\n",
       "</style>\n",
       "<table border=\"1\" class=\"dataframe\">\n",
       "  <thead>\n",
       "    <tr style=\"text-align: right;\">\n",
       "      <th></th>\n",
       "      <th>order_hour_of_day</th>\n",
       "      <th>busiest_period_of_day</th>\n",
       "    </tr>\n",
       "  </thead>\n",
       "  <tbody>\n",
       "    <tr>\n",
       "      <th>0</th>\n",
       "      <td>8</td>\n",
       "      <td>Average Orders</td>\n",
       "    </tr>\n",
       "    <tr>\n",
       "      <th>1</th>\n",
       "      <td>7</td>\n",
       "      <td>Average Orders</td>\n",
       "    </tr>\n",
       "    <tr>\n",
       "      <th>2</th>\n",
       "      <td>12</td>\n",
       "      <td>Most Orders</td>\n",
       "    </tr>\n",
       "    <tr>\n",
       "      <th>3</th>\n",
       "      <td>7</td>\n",
       "      <td>Average Orders</td>\n",
       "    </tr>\n",
       "    <tr>\n",
       "      <th>4</th>\n",
       "      <td>15</td>\n",
       "      <td>Most Orders</td>\n",
       "    </tr>\n",
       "    <tr>\n",
       "      <th>5</th>\n",
       "      <td>7</td>\n",
       "      <td>Average Orders</td>\n",
       "    </tr>\n",
       "    <tr>\n",
       "      <th>6</th>\n",
       "      <td>9</td>\n",
       "      <td>Average Orders</td>\n",
       "    </tr>\n",
       "    <tr>\n",
       "      <th>7</th>\n",
       "      <td>14</td>\n",
       "      <td>Most Orders</td>\n",
       "    </tr>\n",
       "    <tr>\n",
       "      <th>8</th>\n",
       "      <td>16</td>\n",
       "      <td>Most Orders</td>\n",
       "    </tr>\n",
       "    <tr>\n",
       "      <th>9</th>\n",
       "      <td>8</td>\n",
       "      <td>Average Orders</td>\n",
       "    </tr>\n",
       "    <tr>\n",
       "      <th>10</th>\n",
       "      <td>9</td>\n",
       "      <td>Average Orders</td>\n",
       "    </tr>\n",
       "    <tr>\n",
       "      <th>11</th>\n",
       "      <td>16</td>\n",
       "      <td>Most Orders</td>\n",
       "    </tr>\n",
       "    <tr>\n",
       "      <th>12</th>\n",
       "      <td>11</td>\n",
       "      <td>Most Orders</td>\n",
       "    </tr>\n",
       "    <tr>\n",
       "      <th>13</th>\n",
       "      <td>9</td>\n",
       "      <td>Average Orders</td>\n",
       "    </tr>\n",
       "    <tr>\n",
       "      <th>14</th>\n",
       "      <td>10</td>\n",
       "      <td>Most Orders</td>\n",
       "    </tr>\n",
       "    <tr>\n",
       "      <th>15</th>\n",
       "      <td>14</td>\n",
       "      <td>Most Orders</td>\n",
       "    </tr>\n",
       "    <tr>\n",
       "      <th>16</th>\n",
       "      <td>12</td>\n",
       "      <td>Most Orders</td>\n",
       "    </tr>\n",
       "    <tr>\n",
       "      <th>17</th>\n",
       "      <td>17</td>\n",
       "      <td>Average Orders</td>\n",
       "    </tr>\n",
       "    <tr>\n",
       "      <th>18</th>\n",
       "      <td>10</td>\n",
       "      <td>Most Orders</td>\n",
       "    </tr>\n",
       "    <tr>\n",
       "      <th>19</th>\n",
       "      <td>8</td>\n",
       "      <td>Average Orders</td>\n",
       "    </tr>\n",
       "  </tbody>\n",
       "</table>\n",
       "</div>"
      ],
      "text/plain": [
       "    order_hour_of_day busiest_period_of_day\n",
       "0                   8        Average Orders\n",
       "1                   7        Average Orders\n",
       "2                  12          Most Orders \n",
       "3                   7        Average Orders\n",
       "4                  15          Most Orders \n",
       "5                   7        Average Orders\n",
       "6                   9        Average Orders\n",
       "7                  14          Most Orders \n",
       "8                  16          Most Orders \n",
       "9                   8        Average Orders\n",
       "10                  9        Average Orders\n",
       "11                 16          Most Orders \n",
       "12                 11          Most Orders \n",
       "13                  9        Average Orders\n",
       "14                 10          Most Orders \n",
       "15                 14          Most Orders \n",
       "16                 12          Most Orders \n",
       "17                 17        Average Orders\n",
       "18                 10          Most Orders \n",
       "19                  8        Average Orders"
      ]
     },
     "execution_count": 91,
     "metadata": {},
     "output_type": "execute_result"
    }
   ],
   "source": [
    "# Identifying busiest hours of the day\n",
    "df_orders_products_merged[['order_hour_of_day', 'busiest_period_of_day']].head(20)"
   ]
  },
  {
   "cell_type": "markdown",
   "id": "f853d59d",
   "metadata": {},
   "source": [
    "### 5. Printing the frequency of 'busiest_period_of_day' column"
   ]
  },
  {
   "cell_type": "code",
   "execution_count": 84,
   "id": "f0fcc320",
   "metadata": {},
   "outputs": [
    {
     "data": {
      "text/plain": [
       "busiest_period_of_day\n",
       "Most Orders       5716738\n",
       "Average Orders    3934104\n",
       "Fewest Orders      267411\n",
       "Name: count, dtype: int64"
      ]
     },
     "execution_count": 84,
     "metadata": {},
     "output_type": "execute_result"
    }
   ],
   "source": [
    "# Printing the frequency of 'busiest_period_of_day' column\n",
    "df_orders_products_merged['busiest_period_of_day'].value_counts(dropna=False)"
   ]
  },
  {
   "cell_type": "markdown",
   "id": "1975d119",
   "metadata": {},
   "source": [
    "### 7. Exporting the file"
   ]
  },
  {
   "cell_type": "code",
   "execution_count": 96,
   "id": "0c79552f",
   "metadata": {},
   "outputs": [],
   "source": [
    "df_orders_products_merged.to_pickle(os.path.join(path, '02 Data','Prepared Data', 'orders_products_merged.pkl'))"
   ]
  }
 ],
 "metadata": {
  "kernelspec": {
   "display_name": "Python 3 (ipykernel)",
   "language": "python",
   "name": "python3"
  },
  "language_info": {
   "codemirror_mode": {
    "name": "ipython",
    "version": 3
   },
   "file_extension": ".py",
   "mimetype": "text/x-python",
   "name": "python",
   "nbconvert_exporter": "python",
   "pygments_lexer": "ipython3",
   "version": "3.11.4"
  }
 },
 "nbformat": 4,
 "nbformat_minor": 5
}
