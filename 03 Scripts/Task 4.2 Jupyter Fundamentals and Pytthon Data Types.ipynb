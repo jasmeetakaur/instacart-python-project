{
 "cells": [
  {
   "cell_type": "markdown",
   "id": "abe55eed",
   "metadata": {},
   "source": [
    "# Importing Libraries\n"
   ]
  },
  {
   "cell_type": "code",
   "execution_count": 3,
   "id": "b378acca",
   "metadata": {},
   "outputs": [],
   "source": [
    "# Importing Libraries\n",
    "import pandas as pd\n",
    "import numpy as np\n",
    "import os\n"
   ]
  },
  {
   "cell_type": "markdown",
   "id": "8c811947",
   "metadata": {},
   "source": [
    "# Working with Python Data Types\n"
   ]
  },
  {
   "cell_type": "code",
   "execution_count": 6,
   "id": "f9cf291f",
   "metadata": {},
   "outputs": [
    {
     "name": "stdout",
     "output_type": "stream",
     "text": [
      "100\n"
     ]
    }
   ],
   "source": [
    "x=64\n",
    "y=36\n",
    "print (x+y)"
   ]
  },
  {
   "cell_type": "code",
   "execution_count": 7,
   "id": "963b60fa",
   "metadata": {},
   "outputs": [
    {
     "name": "stdout",
     "output_type": "stream",
     "text": [
      "100\n"
     ]
    }
   ],
   "source": [
    " x=125\n",
    " y=25\n",
    "print(x-y)"
   ]
  },
  {
   "cell_type": "code",
   "execution_count": 8,
   "id": "b93d379a",
   "metadata": {},
   "outputs": [
    {
     "name": "stdout",
     "output_type": "stream",
     "text": [
      "100\n"
     ]
    }
   ],
   "source": [
    "x=25\n",
    "y=4\n",
    "print(x*y)"
   ]
  },
  {
   "cell_type": "code",
   "execution_count": 9,
   "id": "aa1f2a7e",
   "metadata": {},
   "outputs": [
    {
     "name": "stdout",
     "output_type": "stream",
     "text": [
      "3.0\n"
     ]
    }
   ],
   "source": [
    "x=15.75\n",
    "y=5.25\n",
    "print(x/y)"
   ]
  },
  {
   "cell_type": "code",
   "execution_count": 10,
   "id": "a7c55556",
   "metadata": {},
   "outputs": [
    {
     "name": "stdout",
     "output_type": "stream",
     "text": [
      "data\n"
     ]
    }
   ],
   "source": [
    "a='d'\n",
    "b='a'\n",
    "c='t'\n",
    "d='a'\n",
    "print(a+b+c+d)"
   ]
  },
  {
   "cell_type": "code",
   "execution_count": 13,
   "id": "57136c84",
   "metadata": {},
   "outputs": [
    {
     "name": "stdout",
     "output_type": "stream",
     "text": [
      "Python is powerful.\n"
     ]
    }
   ],
   "source": [
    "a='Python '\n",
    "b='is '\n",
    "c='powerful.'\n",
    "print(a+b+c)"
   ]
  },
  {
   "cell_type": "code",
   "execution_count": 15,
   "id": "a51cebfd",
   "metadata": {},
   "outputs": [
    {
     "name": "stdout",
     "output_type": "stream",
     "text": [
      "Python is a programming language.\n"
     ]
    }
   ],
   "source": [
    "a='Python '\n",
    "b='is a '\n",
    "c='programming language.'\n",
    "print(a+b+c)"
   ]
  },
  {
   "cell_type": "code",
   "execution_count": 17,
   "id": "7fe205b2",
   "metadata": {},
   "outputs": [
    {
     "name": "stdout",
     "output_type": "stream",
     "text": [
      "PythonPythonPythonPythonPythonPythonPythonPythonPythonPythonPythonPythonPythonPythonPythonPythonPythonPythonPythonPythonPythonPythonPythonPythonPythonPythonPythonPythonPythonPythonPythonPythonPythonPythonPythonPythonPythonPythonPythonPythonPythonPythonPythonPythonPythonPythonPythonPythonPythonPythonPythonPythonPythonPythonPythonPythonPythonPythonPythonPythonPythonPythonPythonPythonPythonPythonPythonPythonPythonPythonPythonPythonPythonPythonPythonPythonPythonPythonPythonPythonPythonPythonPythonPythonPythonPythonPythonPythonPythonPythonPythonPythonPythonPythonPythonPythonPythonPythonPythonPython\n"
     ]
    }
   ],
   "source": [
    "x='Python'\n",
    "print (x*100)"
   ]
  }
 ],
 "metadata": {
  "kernelspec": {
   "display_name": "Python 3 (ipykernel)",
   "language": "python",
   "name": "python3"
  },
  "language_info": {
   "codemirror_mode": {
    "name": "ipython",
    "version": 3
   },
   "file_extension": ".py",
   "mimetype": "text/x-python",
   "name": "python",
   "nbconvert_exporter": "python",
   "pygments_lexer": "ipython3",
   "version": "3.11.4"
  }
 },
 "nbformat": 4,
 "nbformat_minor": 5
}
